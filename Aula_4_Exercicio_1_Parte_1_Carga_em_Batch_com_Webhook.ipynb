{
 "cells": [
  {
   "cell_type": "markdown",
   "metadata": {
    "application/vnd.databricks.v1+cell": {
     "cellMetadata": {
      "byteLimit": 2048000,
      "rowLimit": 10000
     },
     "inputWidgets": {},
     "nuid": "09b8b956-dc92-4cb6-a366-bb534a15736f",
     "showTitle": false,
     "title": ""
    }
   },
   "source": [
    "<div style=\"text-align: left;\">\n",
    "\n",
    "## Módulo: ED-NA-001 - Extração de Dados I\n",
    "<br>\n",
    "\n",
    "## Aula 4 - Exercício 1 - Parte 1\n",
    "<br>"
   ]
  },
  {
   "cell_type": "markdown",
   "metadata": {
    "application/vnd.databricks.v1+cell": {
     "cellMetadata": {},
     "inputWidgets": {},
     "nuid": "ff8c8c64-7811-4deb-be3b-7273774ba0ec",
     "showTitle": false,
     "title": ""
    }
   },
   "source": [
    "#### Desenvolver um ELT a partir da extração de dados do arquivo disponível no Kaggle:\n",
    "https://www.kaggle.com/datasets/kapturovalexander/spotify-data-from-pyspark-course"
   ]
  },
  {
   "cell_type": "markdown",
   "metadata": {
    "application/vnd.databricks.v1+cell": {
     "cellMetadata": {},
     "inputWidgets": {},
     "nuid": "79f87323-3c6e-4d2e-86c7-55c4227ef599",
     "showTitle": false,
     "title": ""
    }
   },
   "source": [
    "#### Os dados transformados precisam responder a seguinte pergunta:\n",
    "> #### 1. A quantidade de músicas lançadas por artista e ano de lançamento;"
   ]
  },
  {
   "cell_type": "markdown",
   "metadata": {
    "application/vnd.databricks.v1+cell": {
     "cellMetadata": {},
     "inputWidgets": {},
     "nuid": "73436d1e-5625-4ee1-9575-afea678204fb",
     "showTitle": false,
     "title": ""
    }
   },
   "source": [
    "#### Esse ELT precisa ser processado em um WEBHOOK e ser invocado a cada nova mensagem. As mensagens deverão ser simuladas a partir de uma requisição POST."
   ]
  }
 ],
 "metadata": {
  "application/vnd.databricks.v1+notebook": {
   "dashboards": [],
   "language": "python",
   "notebookMetadata": {
    "pythonIndentUnit": 4
   },
   "notebookName": "Aula_4_Exercicio_1_Parte_1_Carga_em_Batch_com_Webhook",
   "widgets": {}
  }
 },
 "nbformat": 4,
 "nbformat_minor": 0
}
