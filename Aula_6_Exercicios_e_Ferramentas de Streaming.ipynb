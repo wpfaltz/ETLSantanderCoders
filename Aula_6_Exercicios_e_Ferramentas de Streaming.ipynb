{
 "cells": [
  {
   "cell_type": "markdown",
   "metadata": {
    "application/vnd.databricks.v1+cell": {
     "cellMetadata": {},
     "inputWidgets": {},
     "nuid": "6318ce0c-8f13-470c-ac28-2d3b1468d19e",
     "showTitle": false,
     "title": ""
    }
   },
   "source": [
    "<div style=\"text-align: left;\">\n",
    "\n",
    "## Módulo: ED-NA-001 - Extração de Dados I\n",
    "<br>\n",
    "\n",
    "## Aula 6\n",
    "<br>"
   ]
  },
  {
   "cell_type": "markdown",
   "metadata": {
    "application/vnd.databricks.v1+cell": {
     "cellMetadata": {},
     "inputWidgets": {},
     "nuid": "dbf1c62e-a718-4b6e-837b-a2b1b6b147fa",
     "showTitle": false,
     "title": ""
    }
   },
   "source": [
    "### Programação da Aula 6:\n",
    "\n",
    "> #### 1. **Resolução do Exercício 1 sobre pipeline de dados**;\n",
    "> #### 2. **Tempo para desenvolvimento do Projeto ou Exercícios e tirar dúvidas**;\n",
    "> #### 3. **Resolução do Exercício 2 sobre API**;\n",
    "> #### 4. **Comentar e discutir sobre algumas ferramentas no contexto de Streaming**"
   ]
  },
  {
   "cell_type": "markdown",
   "metadata": {
    "application/vnd.databricks.v1+cell": {
     "cellMetadata": {},
     "inputWidgets": {},
     "nuid": "7ba1dc33-2aaf-4d77-8593-c9194b97d5dc",
     "showTitle": false,
     "title": ""
    }
   },
   "source": [
    "\n",
    "### Exemplos de algumas ferramentas no contexto de streaming:\n",
    "\n",
    "> #### Google BigQuery: É um serviço de data warehouse totalmente gerenciado que permite consultar e analisar grandes conjuntos de dados em tempo real. Ele pode ser usado para análise de dados em tempo real e oferece recursos para streaming de dados em tempo real.\n",
    "\n",
    "> #### Google Cloud Dataflow: É um serviço de processamento de dados em tempo real que permite processar, transformar e analisar fluxos contínuos de dados em tempo real.\n",
    "\n",
    "<br>\n",
    "\n",
    "<div style=\"text-align: center;\">\n",
    "\n",
    "\n",
    "<img src=\"https://drive.google.com/uc?export=view&id=10-pqRDKGDePxybAIpcwnZS9lZIBkU-vS\"  width=\"70%\" height=\"40%\">\n",
    "<br>\n",
    "<br>\n",
    "</div>\n",
    "\n",
    "#### > Amazon Kinesis: A Amazon Web Services oferece uma série de serviços relacionados ao streaming de dados em tempo real, como o Amazon Kinesis Data Streams e o Amazon Kinesis Data Firehose, que permitem a ingestão e análise de grandes volumes de dados em tempo real.\n",
    "\n",
    "<br>\n",
    "\n",
    "<div style=\"text-align: center;\">\n",
    "\n",
    "\n",
    "<img src=\"https://drive.google.com/uc?export=view&id=100WMEOVoGL8W0HNPbEg-F-9iJdiXafLz\"  width=\"70%\" height=\"40%\">\n",
    "<br>\n",
    "<br>\n",
    "</div>\n",
    "\n",
    "### Azure Stream Analytics:\n",
    "\n",
    "#### > Azure Stream Analytics: O Azure Stream Analytics é um serviço de streaming em tempo real e análise de dados que permite processar e analisar dados de streaming em tempo real a partir de diversas fontes, como IoT (Internet das Coisas) e aplicativos da web.\n",
    "\n",
    "#### > Databricks - Delta Live Tables: As Delta Live Tables são um recurso do Databricks Delta, uma plataforma de dados, que permite a ingestão e atualização em tempo real de dados em seus conjuntos de dados Delta. Isso significa que você pode transmitir dados continuamente, aplicar alterações em tempo real e executar análises quase em tempo real em seus dados. É útil para cenários que exigem reações rápidas a mudanças nos dados, como análises de séries temporais em tempo real ou sistemas de recomendação. As Live Tables são integradas ao ambiente Databricks e usam processamento de dados em tempo real para fornecer insights em tempo real a partir dos dados em constante evolução.\n",
    "\n",
    "<br>\n",
    "\n",
    "<div style=\"text-align: center;\">\n",
    "\n",
    "\n",
    "<img src=\"https://www.databricks.com/en-website-assets/static/d39379e90d8c35fa2c93428059962279/4e4a8/quality-testing.png\"  width=\"70%\" height=\"40%\">\n",
    "<br>\n",
    "<br>\n",
    "</div>"
   ]
  }
 ],
 "metadata": {
  "application/vnd.databricks.v1+notebook": {
   "dashboards": [],
   "language": "python",
   "notebookMetadata": {
    "pythonIndentUnit": 4
   },
   "notebookName": "Aula_6_Exercicios_e_Ferramentas de Streaming",
   "widgets": {}
  }
 },
 "nbformat": 4,
 "nbformat_minor": 0
}
