{
 "cells": [
  {
   "cell_type": "markdown",
   "metadata": {
    "application/vnd.databricks.v1+cell": {
     "cellMetadata": {},
     "inputWidgets": {},
     "nuid": "f8271380-a00d-4137-932c-b2434664a5aa",
     "showTitle": false,
     "title": ""
    }
   },
   "source": [
    "<div style=\"text-align: left;\">\n",
    "\n",
    "## Módulo: ED-NA-001 - Extração de Dados I\n",
    "<br>\n",
    "\n",
    "## Aula 4 - Exercício 1 - Parte 2\n",
    "<br>"
   ]
  },
  {
   "cell_type": "markdown",
   "metadata": {
    "application/vnd.databricks.v1+cell": {
     "cellMetadata": {},
     "inputWidgets": {},
     "nuid": "eb4bd165-91d1-49d7-b527-3ee32b52fc5f",
     "showTitle": false,
     "title": ""
    }
   },
   "source": [
    "## Enviando a requisição para o Webhook "
   ]
  },
  {
   "cell_type": "code",
   "execution_count": 0,
   "metadata": {
    "application/vnd.databricks.v1+cell": {
     "cellMetadata": {
      "byteLimit": 2048000,
      "rowLimit": 10000
     },
     "inputWidgets": {},
     "nuid": "16da4a5f-40d7-4a49-818d-5cd6522f2d9e",
     "showTitle": false,
     "title": ""
    }
   },
   "outputs": [
    {
     "output_type": "stream",
     "name": "stdout",
     "output_type": "stream",
     "text": [
      "Webhook enviado com sucesso.\n"
     ]
    }
   ],
   "source": [
    "import requests\n",
    "import json\n",
    "\n",
    "# URL da API webhook\n",
    "url = \"http://localhost:5000/webhook\"\n",
    "\n",
    "# Dados a serem enviados na requisição\n",
    "data = {\"message\": \"Processa o ELT, por favor\"}\n",
    "\n",
    "# Enviando a requisição POST para a API\n",
    "response = requests.post(url, json=data)\n",
    "\n",
    "# Verificando o status da resposta\n",
    "if response.status_code == 200:\n",
    "    # Se o status é 200, a requisição foi bem-sucedida\n",
    "    print(\"Webhook enviado com sucesso.\")\n",
    "else:\n",
    "    # Caso contrário, houve um erro na requisição\n",
    "    print(\"Erro ao enviar webhook.\")"
   ]
  },
  {
   "cell_type": "markdown",
   "metadata": {
    "application/vnd.databricks.v1+cell": {
     "cellMetadata": {},
     "inputWidgets": {},
     "nuid": "1e703211-9892-49e1-bffc-ffd6adbee733",
     "showTitle": false,
     "title": ""
    }
   },
   "source": [
    "### verifica se os dados processados foram movimentados para a pasta de dados brutos carregados"
   ]
  },
  {
   "cell_type": "code",
   "execution_count": 0,
   "metadata": {
    "application/vnd.databricks.v1+cell": {
     "cellMetadata": {
      "byteLimit": 2048000,
      "rowLimit": 10000
     },
     "inputWidgets": {},
     "nuid": "47ec560c-2b86-4be2-9090-10dd3690caa2",
     "showTitle": false,
     "title": ""
    }
   },
   "outputs": [
    {
     "output_type": "stream",
     "name": "stdout",
     "output_type": "stream",
     "text": [
      "Out[5]: [FileInfo(path='dbfs:/FileStore/tables/dados_brutos_carregados_spotify/spotify_data_2015.csv', name='spotify_data_2015.csv', size=295140, modificationTime=1695184841000),\n FileInfo(path='dbfs:/FileStore/tables/dados_brutos_carregados_spotify/spotify_data_2016.csv', name='spotify_data_2016.csv', size=295883, modificationTime=1695184842000),\n FileInfo(path='dbfs:/FileStore/tables/dados_brutos_carregados_spotify/spotify_data_2017.csv', name='spotify_data_2017.csv', size=299053, modificationTime=1695184842000)]"
     ]
    }
   ],
   "source": [
    "dbutils.fs.ls(\"/FileStore/tables/dados_brutos_carregados_spotify/\")"
   ]
  },
  {
   "cell_type": "markdown",
   "metadata": {
    "application/vnd.databricks.v1+cell": {
     "cellMetadata": {},
     "inputWidgets": {},
     "nuid": "e1220de3-9fe9-4213-9003-886d965e5168",
     "showTitle": false,
     "title": ""
    }
   },
   "source": [
    "### Imprime o resultado do primeiro processamento de dados com os arquivos dos anos de 2015 a 2017"
   ]
  },
  {
   "cell_type": "code",
   "execution_count": 0,
   "metadata": {
    "application/vnd.databricks.v1+cell": {
     "cellMetadata": {
      "byteLimit": 2048000,
      "rowLimit": 10000
     },
     "inputWidgets": {},
     "nuid": "a4cb30ce-4299-44a3-b8c8-068abf587ef0",
     "showTitle": false,
     "title": ""
    }
   },
   "outputs": [
    {
     "output_type": "display_data",
     "data": {
      "text/html": [
       "<div>\n",
       "<style scoped>\n",
       "    .dataframe tbody tr th:only-of-type {\n",
       "        vertical-align: middle;\n",
       "    }\n",
       "\n",
       "    .dataframe tbody tr th {\n",
       "        vertical-align: top;\n",
       "    }\n",
       "\n",
       "    .dataframe thead th {\n",
       "        text-align: right;\n",
       "    }\n",
       "</style>\n",
       "<table border=\"1\" class=\"dataframe\">\n",
       "  <thead>\n",
       "    <tr style=\"text-align: right;\">\n",
       "      <th></th>\n",
       "      <th>year</th>\n",
       "      <th>artists</th>\n",
       "      <th>quantidade_musicas</th>\n",
       "    </tr>\n",
       "  </thead>\n",
       "  <tbody>\n",
       "    <tr>\n",
       "      <th>1460</th>\n",
       "      <td>2017</td>\n",
       "      <td>['XXXTENTACION']</td>\n",
       "      <td>18</td>\n",
       "    </tr>\n",
       "    <tr>\n",
       "      <th>1767</th>\n",
       "      <td>2017</td>\n",
       "      <td>['Lil Uzi Vert']</td>\n",
       "      <td>18</td>\n",
       "    </tr>\n",
       "    <tr>\n",
       "      <th>2031</th>\n",
       "      <td>2017</td>\n",
       "      <td>['Ed Sheeran']</td>\n",
       "      <td>17</td>\n",
       "    </tr>\n",
       "    <tr>\n",
       "      <th>1711</th>\n",
       "      <td>2017</td>\n",
       "      <td>['Khalid']</td>\n",
       "      <td>16</td>\n",
       "    </tr>\n",
       "    <tr>\n",
       "      <th>1162</th>\n",
       "      <td>2017</td>\n",
       "      <td>['BROCKHAMPTON']</td>\n",
       "      <td>15</td>\n",
       "    </tr>\n",
       "    <tr>\n",
       "      <th>1732</th>\n",
       "      <td>2017</td>\n",
       "      <td>['Taylor Swift']</td>\n",
       "      <td>15</td>\n",
       "    </tr>\n",
       "    <tr>\n",
       "      <th>1895</th>\n",
       "      <td>2017</td>\n",
       "      <td>['NF']</td>\n",
       "      <td>13</td>\n",
       "    </tr>\n",
       "    <tr>\n",
       "      <th>1523</th>\n",
       "      <td>2017</td>\n",
       "      <td>['Drake']</td>\n",
       "      <td>12</td>\n",
       "    </tr>\n",
       "    <tr>\n",
       "      <th>1645</th>\n",
       "      <td>2017</td>\n",
       "      <td>['Harry Styles']</td>\n",
       "      <td>12</td>\n",
       "    </tr>\n",
       "    <tr>\n",
       "      <th>1936</th>\n",
       "      <td>2017</td>\n",
       "      <td>['Chris Stapleton']</td>\n",
       "      <td>12</td>\n",
       "    </tr>\n",
       "  </tbody>\n",
       "</table>\n",
       "</div>"
      ]
     },
     "metadata": {
      "application/vnd.databricks.v1+output": {
       "addedWidgets": {},
       "arguments": {},
       "data": "<div>\n<style scoped>\n    .dataframe tbody tr th:only-of-type {\n        vertical-align: middle;\n    }\n\n    .dataframe tbody tr th {\n        vertical-align: top;\n    }\n\n    .dataframe thead th {\n        text-align: right;\n    }\n</style>\n<table border=\"1\" class=\"dataframe\">\n  <thead>\n    <tr style=\"text-align: right;\">\n      <th></th>\n      <th>year</th>\n      <th>artists</th>\n      <th>quantidade_musicas</th>\n    </tr>\n  </thead>\n  <tbody>\n    <tr>\n      <th>1460</th>\n      <td>2017</td>\n      <td>['XXXTENTACION']</td>\n      <td>18</td>\n    </tr>\n    <tr>\n      <th>1767</th>\n      <td>2017</td>\n      <td>['Lil Uzi Vert']</td>\n      <td>18</td>\n    </tr>\n    <tr>\n      <th>2031</th>\n      <td>2017</td>\n      <td>['Ed Sheeran']</td>\n      <td>17</td>\n    </tr>\n    <tr>\n      <th>1711</th>\n      <td>2017</td>\n      <td>['Khalid']</td>\n      <td>16</td>\n    </tr>\n    <tr>\n      <th>1162</th>\n      <td>2017</td>\n      <td>['BROCKHAMPTON']</td>\n      <td>15</td>\n    </tr>\n    <tr>\n      <th>1732</th>\n      <td>2017</td>\n      <td>['Taylor Swift']</td>\n      <td>15</td>\n    </tr>\n    <tr>\n      <th>1895</th>\n      <td>2017</td>\n      <td>['NF']</td>\n      <td>13</td>\n    </tr>\n    <tr>\n      <th>1523</th>\n      <td>2017</td>\n      <td>['Drake']</td>\n      <td>12</td>\n    </tr>\n    <tr>\n      <th>1645</th>\n      <td>2017</td>\n      <td>['Harry Styles']</td>\n      <td>12</td>\n    </tr>\n    <tr>\n      <th>1936</th>\n      <td>2017</td>\n      <td>['Chris Stapleton']</td>\n      <td>12</td>\n    </tr>\n  </tbody>\n</table>\n</div>",
       "datasetInfos": [],
       "metadata": {},
       "removedWidgets": [],
       "textData": null,
       "type": "htmlSandbox"
      }
     },
     "output_type": "display_data"
    }
   ],
   "source": [
    "import pyspark.pandas as ps\n",
    "\n",
    "dir_escrita_transformado = \"/FileStore/tables/dados_transformados_spotify/dado_transformado.parquet\"\n",
    "df = ps.read_parquet(dir_escrita_transformado)\n",
    "df = df.sort_values(by=[\"year\", \"quantidade_musicas\"], ascending = False)\n",
    "df.head(10)"
   ]
  },
  {
   "cell_type": "markdown",
   "metadata": {
    "application/vnd.databricks.v1+cell": {
     "cellMetadata": {},
     "inputWidgets": {},
     "nuid": "5283d198-e704-4723-87c9-a4631b8d7a9a",
     "showTitle": false,
     "title": ""
    }
   },
   "source": [
    "### Simula novos arquivos chegando na pasta de dados brutos: os dados de 2018 a 2020"
   ]
  },
  {
   "cell_type": "code",
   "execution_count": 0,
   "metadata": {
    "application/vnd.databricks.v1+cell": {
     "cellMetadata": {
      "byteLimit": 2048000,
      "rowLimit": 10000
     },
     "inputWidgets": {},
     "nuid": "66cbb71e-2aab-4f25-ad5e-941941332a99",
     "showTitle": false,
     "title": ""
    }
   },
   "outputs": [
    {
     "output_type": "stream",
     "name": "stdout",
     "output_type": "stream",
     "text": [
      "Out[7]: True"
     ]
    }
   ],
   "source": [
    "dbutils.fs.mv(\"/FileStore/tables/novos_dados_spotify/spotify_data_2018.csv\", \"/FileStore/tables/dados_brutos_spotify/spotify_data_2018.csv\")"
   ]
  },
  {
   "cell_type": "code",
   "execution_count": 0,
   "metadata": {
    "application/vnd.databricks.v1+cell": {
     "cellMetadata": {
      "byteLimit": 2048000,
      "rowLimit": 10000
     },
     "inputWidgets": {},
     "nuid": "ad5cd260-7828-4305-861c-9e3ca3a73fcd",
     "showTitle": false,
     "title": ""
    }
   },
   "outputs": [
    {
     "output_type": "stream",
     "name": "stdout",
     "output_type": "stream",
     "text": [
      "Out[8]: True"
     ]
    }
   ],
   "source": [
    "dbutils.fs.mv(\"/FileStore/tables/novos_dados_spotify/spotify_data_2019.csv\", \"/FileStore/tables/dados_brutos_spotify/spotify_data_2019.csv\")"
   ]
  },
  {
   "cell_type": "code",
   "execution_count": 0,
   "metadata": {
    "application/vnd.databricks.v1+cell": {
     "cellMetadata": {
      "byteLimit": 2048000,
      "rowLimit": 10000
     },
     "inputWidgets": {},
     "nuid": "f667cfa7-8ded-49ef-ac06-ad30f24826a0",
     "showTitle": false,
     "title": ""
    }
   },
   "outputs": [
    {
     "output_type": "stream",
     "name": "stdout",
     "output_type": "stream",
     "text": [
      "Out[9]: True"
     ]
    }
   ],
   "source": [
    "dbutils.fs.mv(\"/FileStore/tables/novos_dados_spotify/spotify_data_2020.csv\", \"/FileStore/tables/dados_brutos_spotify/spotify_data_2020.csv\")"
   ]
  },
  {
   "cell_type": "markdown",
   "metadata": {
    "application/vnd.databricks.v1+cell": {
     "cellMetadata": {},
     "inputWidgets": {},
     "nuid": "dd8144c0-a96d-40ca-ba83-1e67b9ffb059",
     "showTitle": false,
     "title": ""
    }
   },
   "source": [
    "## Enviando outra requisição para o Webhook "
   ]
  },
  {
   "cell_type": "code",
   "execution_count": 0,
   "metadata": {
    "application/vnd.databricks.v1+cell": {
     "cellMetadata": {
      "byteLimit": 2048000,
      "rowLimit": 10000
     },
     "inputWidgets": {},
     "nuid": "720cb65b-fb26-4ea8-b97e-2a08e27abf54",
     "showTitle": false,
     "title": ""
    }
   },
   "outputs": [
    {
     "output_type": "stream",
     "name": "stdout",
     "output_type": "stream",
     "text": [
      "Webhook enviado com sucesso.\n"
     ]
    }
   ],
   "source": [
    "import requests\n",
    "import json\n",
    "\n",
    "# URL da API webhook\n",
    "url = \"http://localhost:5000/webhook\"\n",
    "\n",
    "# Dados a serem enviados na requisição\n",
    "data = {\"message\": \"Processa o ELT, por favor\"}\n",
    "\n",
    "# Enviando a requisição POST para a API\n",
    "response = requests.post(url, json=data)\n",
    "\n",
    "# Verificando o status da resposta\n",
    "if response.status_code == 200:\n",
    "    # Se o status é 200, a requisição foi bem-sucedida\n",
    "    print(\"Webhook enviado com sucesso.\")\n",
    "else:\n",
    "    # Caso contrário, houve um erro na requisição\n",
    "    print(\"Erro ao enviar webhook.\")"
   ]
  },
  {
   "cell_type": "markdown",
   "metadata": {
    "application/vnd.databricks.v1+cell": {
     "cellMetadata": {},
     "inputWidgets": {},
     "nuid": "3d472765-3931-4baf-9e12-14a8205e4776",
     "showTitle": false,
     "title": ""
    }
   },
   "source": [
    "### último resultado com mais um processo dos novos arquivos"
   ]
  },
  {
   "cell_type": "code",
   "execution_count": 0,
   "metadata": {
    "application/vnd.databricks.v1+cell": {
     "cellMetadata": {
      "byteLimit": 2048000,
      "rowLimit": 10000
     },
     "inputWidgets": {},
     "nuid": "bdad9f20-0842-49ee-b8dd-81ab381f2d98",
     "showTitle": false,
     "title": ""
    }
   },
   "outputs": [
    {
     "output_type": "stream",
     "name": "stdout",
     "output_type": "stream",
     "text": [
      "Out[11]: [FileInfo(path='dbfs:/FileStore/tables/dados_brutos_carregados_spotify/spotify_data_2015.csv', name='spotify_data_2015.csv', size=295140, modificationTime=1695184841000),\n FileInfo(path='dbfs:/FileStore/tables/dados_brutos_carregados_spotify/spotify_data_2016.csv', name='spotify_data_2016.csv', size=295883, modificationTime=1695184842000),\n FileInfo(path='dbfs:/FileStore/tables/dados_brutos_carregados_spotify/spotify_data_2017.csv', name='spotify_data_2017.csv', size=299053, modificationTime=1695184842000),\n FileInfo(path='dbfs:/FileStore/tables/dados_brutos_carregados_spotify/spotify_data_2018.csv', name='spotify_data_2018.csv', size=298566, modificationTime=1695184877000),\n FileInfo(path='dbfs:/FileStore/tables/dados_brutos_carregados_spotify/spotify_data_2019.csv', name='spotify_data_2019.csv', size=301919, modificationTime=1695184878000),\n FileInfo(path='dbfs:/FileStore/tables/dados_brutos_carregados_spotify/spotify_data_2020.csv', name='spotify_data_2020.csv', size=266115, modificationTime=1695184878000)]"
     ]
    }
   ],
   "source": [
    "dbutils.fs.ls(\"/FileStore/tables/dados_brutos_carregados_spotify/\")"
   ]
  },
  {
   "cell_type": "markdown",
   "metadata": {
    "application/vnd.databricks.v1+cell": {
     "cellMetadata": {},
     "inputWidgets": {},
     "nuid": "1cce5e2c-c885-4d08-8eed-92796397bcaa",
     "showTitle": false,
     "title": ""
    }
   },
   "source": [
    "### Impressão do resultado transformado agora com os dados de 2018 a 2020 também."
   ]
  },
  {
   "cell_type": "code",
   "execution_count": 0,
   "metadata": {
    "application/vnd.databricks.v1+cell": {
     "cellMetadata": {
      "byteLimit": 2048000,
      "rowLimit": 10000
     },
     "inputWidgets": {},
     "nuid": "c0b1a158-90bd-4de6-9a49-27e5616a1294",
     "showTitle": false,
     "title": ""
    }
   },
   "outputs": [
    {
     "output_type": "display_data",
     "data": {
      "text/html": [
       "<div>\n",
       "<style scoped>\n",
       "    .dataframe tbody tr th:only-of-type {\n",
       "        vertical-align: middle;\n",
       "    }\n",
       "\n",
       "    .dataframe tbody tr th {\n",
       "        vertical-align: top;\n",
       "    }\n",
       "\n",
       "    .dataframe thead th {\n",
       "        text-align: right;\n",
       "    }\n",
       "</style>\n",
       "<table border=\"1\" class=\"dataframe\">\n",
       "  <thead>\n",
       "    <tr style=\"text-align: right;\">\n",
       "      <th></th>\n",
       "      <th>year</th>\n",
       "      <th>artists</th>\n",
       "      <th>quantidade_musicas</th>\n",
       "    </tr>\n",
       "  </thead>\n",
       "  <tbody>\n",
       "    <tr>\n",
       "      <th>6281</th>\n",
       "      <td>2020</td>\n",
       "      <td>['Lil Uzi Vert']</td>\n",
       "      <td>37</td>\n",
       "    </tr>\n",
       "    <tr>\n",
       "      <th>6075</th>\n",
       "      <td>2020</td>\n",
       "      <td>['The Weeknd']</td>\n",
       "      <td>24</td>\n",
       "    </tr>\n",
       "    <tr>\n",
       "      <th>6120</th>\n",
       "      <td>2020</td>\n",
       "      <td>['Lil Baby']</td>\n",
       "      <td>23</td>\n",
       "    </tr>\n",
       "    <tr>\n",
       "      <th>6916</th>\n",
       "      <td>2020</td>\n",
       "      <td>['YoungBoy Never Broke Again']</td>\n",
       "      <td>23</td>\n",
       "    </tr>\n",
       "    <tr>\n",
       "      <th>6280</th>\n",
       "      <td>2020</td>\n",
       "      <td>['Lauv']</td>\n",
       "      <td>20</td>\n",
       "    </tr>\n",
       "    <tr>\n",
       "      <th>6056</th>\n",
       "      <td>2020</td>\n",
       "      <td>['Future']</td>\n",
       "      <td>15</td>\n",
       "    </tr>\n",
       "    <tr>\n",
       "      <th>6511</th>\n",
       "      <td>2020</td>\n",
       "      <td>['Dua Lipa']</td>\n",
       "      <td>15</td>\n",
       "    </tr>\n",
       "    <tr>\n",
       "      <th>6795</th>\n",
       "      <td>2020</td>\n",
       "      <td>['The 1975']</td>\n",
       "      <td>15</td>\n",
       "    </tr>\n",
       "    <tr>\n",
       "      <th>6626</th>\n",
       "      <td>2020</td>\n",
       "      <td>['Rod Wave']</td>\n",
       "      <td>14</td>\n",
       "    </tr>\n",
       "    <tr>\n",
       "      <th>6703</th>\n",
       "      <td>2020</td>\n",
       "      <td>['BTS']</td>\n",
       "      <td>14</td>\n",
       "    </tr>\n",
       "  </tbody>\n",
       "</table>\n",
       "</div>"
      ]
     },
     "metadata": {
      "application/vnd.databricks.v1+output": {
       "addedWidgets": {},
       "arguments": {},
       "data": "<div>\n<style scoped>\n    .dataframe tbody tr th:only-of-type {\n        vertical-align: middle;\n    }\n\n    .dataframe tbody tr th {\n        vertical-align: top;\n    }\n\n    .dataframe thead th {\n        text-align: right;\n    }\n</style>\n<table border=\"1\" class=\"dataframe\">\n  <thead>\n    <tr style=\"text-align: right;\">\n      <th></th>\n      <th>year</th>\n      <th>artists</th>\n      <th>quantidade_musicas</th>\n    </tr>\n  </thead>\n  <tbody>\n    <tr>\n      <th>6281</th>\n      <td>2020</td>\n      <td>['Lil Uzi Vert']</td>\n      <td>37</td>\n    </tr>\n    <tr>\n      <th>6075</th>\n      <td>2020</td>\n      <td>['The Weeknd']</td>\n      <td>24</td>\n    </tr>\n    <tr>\n      <th>6120</th>\n      <td>2020</td>\n      <td>['Lil Baby']</td>\n      <td>23</td>\n    </tr>\n    <tr>\n      <th>6916</th>\n      <td>2020</td>\n      <td>['YoungBoy Never Broke Again']</td>\n      <td>23</td>\n    </tr>\n    <tr>\n      <th>6280</th>\n      <td>2020</td>\n      <td>['Lauv']</td>\n      <td>20</td>\n    </tr>\n    <tr>\n      <th>6056</th>\n      <td>2020</td>\n      <td>['Future']</td>\n      <td>15</td>\n    </tr>\n    <tr>\n      <th>6511</th>\n      <td>2020</td>\n      <td>['Dua Lipa']</td>\n      <td>15</td>\n    </tr>\n    <tr>\n      <th>6795</th>\n      <td>2020</td>\n      <td>['The 1975']</td>\n      <td>15</td>\n    </tr>\n    <tr>\n      <th>6626</th>\n      <td>2020</td>\n      <td>['Rod Wave']</td>\n      <td>14</td>\n    </tr>\n    <tr>\n      <th>6703</th>\n      <td>2020</td>\n      <td>['BTS']</td>\n      <td>14</td>\n    </tr>\n  </tbody>\n</table>\n</div>",
       "datasetInfos": [],
       "metadata": {},
       "removedWidgets": [],
       "textData": null,
       "type": "htmlSandbox"
      }
     },
     "output_type": "display_data"
    }
   ],
   "source": [
    "import pyspark.pandas as ps\n",
    "\n",
    "dir_escrita_transformado = \"/FileStore/tables/dados_transformados_spotify/dado_transformado.parquet\"\n",
    "df = ps.read_parquet(dir_escrita_transformado)\n",
    "df = df.sort_values(by=[\"year\", \"quantidade_musicas\"], ascending = False)\n",
    "df.head(10)"
   ]
  },
  {
   "cell_type": "code",
   "execution_count": 0,
   "metadata": {
    "application/vnd.databricks.v1+cell": {
     "cellMetadata": {},
     "inputWidgets": {},
     "nuid": "ec02de58-f1ec-4ff6-80b6-ec6674db252b",
     "showTitle": false,
     "title": ""
    }
   },
   "outputs": [],
   "source": []
  }
 ],
 "metadata": {
  "application/vnd.databricks.v1+notebook": {
   "dashboards": [],
   "language": "python",
   "notebookMetadata": {
    "pythonIndentUnit": 4
   },
   "notebookName": "Aula_4_Exercicio_1_Parte_2_Carga_em_Batch_com_Webhook",
   "widgets": {}
  }
 },
 "nbformat": 4,
 "nbformat_minor": 0
}
