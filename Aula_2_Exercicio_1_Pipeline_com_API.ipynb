{
 "cells": [
  {
   "cell_type": "markdown",
   "metadata": {
    "application/vnd.databricks.v1+cell": {
     "cellMetadata": {
      "byteLimit": 2048000,
      "rowLimit": 10000
     },
     "inputWidgets": {},
     "nuid": "a953fa75-3330-47f2-be3c-9766b2295840",
     "showTitle": false,
     "title": ""
    }
   },
   "source": [
    "<div style=\"text-align: left;\">\n",
    "\n",
    "## Módulo: ED-NA-001 - Extração de Dados I\n",
    "<br>\n",
    "\n",
    "## Aula 2 - Exercício 1\n",
    "<br>"
   ]
  },
  {
   "cell_type": "markdown",
   "metadata": {
    "application/vnd.databricks.v1+cell": {
     "cellMetadata": {
      "byteLimit": 2048000,
      "rowLimit": 10000
     },
     "inputWidgets": {},
     "nuid": "cf2a9d95-a821-4704-8bc9-02ad012a5253",
     "showTitle": false,
     "title": ""
    }
   },
   "source": [
    "#### Desenvolver um pipeline de dados com a API Nominatim para consultar a latitude e longitude de uma arquivo com endereço de escolas do Rio de Janeiro:\n",
    "\n",
    "> #### 1 - Extrair o arquivo \"df_escolas.csv\" disponível no LMS;\n",
    "> #### 2 - Extrair os dados de latitude e longitude pela API Nominatim a partir do endereço de cada escola do arquivo \"df_escolas.csv\";\n",
    "> #### 3 - Combinar todos os resultados em um único dataframe e carregar o resultado final em um arquivo Parquet."
   ]
  },
  {
   "cell_type": "markdown",
   "metadata": {
    "application/vnd.databricks.v1+cell": {
     "cellMetadata": {},
     "inputWidgets": {},
     "nuid": "2082b088-6122-49bf-bb9a-e433edcc9c9c",
     "showTitle": false,
     "title": ""
    }
   },
   "source": [
    "#### Dataframe com os endereços das escolas:"
   ]
  },
  {
   "cell_type": "code",
   "execution_count": 0,
   "metadata": {
    "application/vnd.databricks.v1+cell": {
     "cellMetadata": {
      "byteLimit": 2048000,
      "rowLimit": 10000
     },
     "inputWidgets": {},
     "nuid": "e4e14515-d401-481a-9004-27a08da0c45c",
     "showTitle": false,
     "title": ""
    }
   },
   "outputs": [
    {
     "output_type": "display_data",
     "data": {
      "text/html": [
       "<div>\n",
       "<style scoped>\n",
       "    .dataframe tbody tr th:only-of-type {\n",
       "        vertical-align: middle;\n",
       "    }\n",
       "\n",
       "    .dataframe tbody tr th {\n",
       "        vertical-align: top;\n",
       "    }\n",
       "\n",
       "    .dataframe thead th {\n",
       "        text-align: right;\n",
       "    }\n",
       "</style>\n",
       "<table border=\"1\" class=\"dataframe\">\n",
       "  <thead>\n",
       "    <tr style=\"text-align: right;\">\n",
       "      <th></th>\n",
       "      <th>id</th>\n",
       "      <th>escolas_postos</th>\n",
       "      <th>bairro</th>\n",
       "      <th>endereço</th>\n",
       "      <th>lat</th>\n",
       "      <th>lon</th>\n",
       "      <th>quantidade</th>\n",
       "      <th>subprefeitura</th>\n",
       "      <th>tipo_escola</th>\n",
       "      <th>numero</th>\n",
       "    </tr>\n",
       "  </thead>\n",
       "  <tbody>\n",
       "    <tr>\n",
       "      <th>0</th>\n",
       "      <td>178</td>\n",
       "      <td>HENFIL</td>\n",
       "      <td>CAJU</td>\n",
       "      <td>RUA CARLOS SEIDL</td>\n",
       "      <td>-22.88089</td>\n",
       "      <td>-43.22533</td>\n",
       "      <td>20</td>\n",
       "      <td>CENTRO</td>\n",
       "      <td>CIEP</td>\n",
       "      <td>S/N</td>\n",
       "    </tr>\n",
       "    <tr>\n",
       "      <th>1</th>\n",
       "      <td>634</td>\n",
       "      <td>ALICE DO AMARAL PEIXOTO</td>\n",
       "      <td>BENFICA</td>\n",
       "      <td>RUA EBANO</td>\n",
       "      <td>-22.88957</td>\n",
       "      <td>-43.23620</td>\n",
       "      <td>121</td>\n",
       "      <td>CENTRO</td>\n",
       "      <td>EM</td>\n",
       "      <td>187</td>\n",
       "    </tr>\n",
       "    <tr>\n",
       "      <th>2</th>\n",
       "      <td>600</td>\n",
       "      <td>URUGUAI</td>\n",
       "      <td>BENFICA</td>\n",
       "      <td>RUA ANA NERI</td>\n",
       "      <td>-22.89849</td>\n",
       "      <td>-43.23776</td>\n",
       "      <td>591</td>\n",
       "      <td>CENTRO</td>\n",
       "      <td>EM</td>\n",
       "      <td>192</td>\n",
       "    </tr>\n",
       "    <tr>\n",
       "      <th>3</th>\n",
       "      <td>476</td>\n",
       "      <td>FLORIANO PEIXOTO</td>\n",
       "      <td>SAO CRISTOVAO</td>\n",
       "      <td>PRACA ARGENTINA</td>\n",
       "      <td>-22.89763</td>\n",
       "      <td>-43.22746</td>\n",
       "      <td>190</td>\n",
       "      <td>CENTRO</td>\n",
       "      <td>EM</td>\n",
       "      <td>20</td>\n",
       "    </tr>\n",
       "    <tr>\n",
       "      <th>4</th>\n",
       "      <td>163</td>\n",
       "      <td>LAUDIMIA TROTTA</td>\n",
       "      <td>TIJUCA</td>\n",
       "      <td>RUA ANTONIO BASILIO</td>\n",
       "      <td>-22.92684</td>\n",
       "      <td>-43.23789</td>\n",
       "      <td>576</td>\n",
       "      <td>GRANDE TIJUCA</td>\n",
       "      <td>EM</td>\n",
       "      <td>370</td>\n",
       "    </tr>\n",
       "  </tbody>\n",
       "</table>\n",
       "</div>"
      ]
     },
     "metadata": {
      "application/vnd.databricks.v1+output": {
       "addedWidgets": {},
       "arguments": {},
       "data": "<div>\n<style scoped>\n    .dataframe tbody tr th:only-of-type {\n        vertical-align: middle;\n    }\n\n    .dataframe tbody tr th {\n        vertical-align: top;\n    }\n\n    .dataframe thead th {\n        text-align: right;\n    }\n</style>\n<table border=\"1\" class=\"dataframe\">\n  <thead>\n    <tr style=\"text-align: right;\">\n      <th></th>\n      <th>id</th>\n      <th>escolas_postos</th>\n      <th>bairro</th>\n      <th>endereço</th>\n      <th>lat</th>\n      <th>lon</th>\n      <th>quantidade</th>\n      <th>subprefeitura</th>\n      <th>tipo_escola</th>\n      <th>numero</th>\n    </tr>\n  </thead>\n  <tbody>\n    <tr>\n      <th>0</th>\n      <td>178</td>\n      <td>HENFIL</td>\n      <td>CAJU</td>\n      <td>RUA CARLOS SEIDL</td>\n      <td>-22.88089</td>\n      <td>-43.22533</td>\n      <td>20</td>\n      <td>CENTRO</td>\n      <td>CIEP</td>\n      <td>S/N</td>\n    </tr>\n    <tr>\n      <th>1</th>\n      <td>634</td>\n      <td>ALICE DO AMARAL PEIXOTO</td>\n      <td>BENFICA</td>\n      <td>RUA EBANO</td>\n      <td>-22.88957</td>\n      <td>-43.23620</td>\n      <td>121</td>\n      <td>CENTRO</td>\n      <td>EM</td>\n      <td>187</td>\n    </tr>\n    <tr>\n      <th>2</th>\n      <td>600</td>\n      <td>URUGUAI</td>\n      <td>BENFICA</td>\n      <td>RUA ANA NERI</td>\n      <td>-22.89849</td>\n      <td>-43.23776</td>\n      <td>591</td>\n      <td>CENTRO</td>\n      <td>EM</td>\n      <td>192</td>\n    </tr>\n    <tr>\n      <th>3</th>\n      <td>476</td>\n      <td>FLORIANO PEIXOTO</td>\n      <td>SAO CRISTOVAO</td>\n      <td>PRACA ARGENTINA</td>\n      <td>-22.89763</td>\n      <td>-43.22746</td>\n      <td>190</td>\n      <td>CENTRO</td>\n      <td>EM</td>\n      <td>20</td>\n    </tr>\n    <tr>\n      <th>4</th>\n      <td>163</td>\n      <td>LAUDIMIA TROTTA</td>\n      <td>TIJUCA</td>\n      <td>RUA ANTONIO BASILIO</td>\n      <td>-22.92684</td>\n      <td>-43.23789</td>\n      <td>576</td>\n      <td>GRANDE TIJUCA</td>\n      <td>EM</td>\n      <td>370</td>\n    </tr>\n  </tbody>\n</table>\n</div>",
       "datasetInfos": [],
       "metadata": {},
       "removedWidgets": [],
       "textData": null,
       "type": "htmlSandbox"
      }
     },
     "output_type": "display_data"
    }
   ],
   "source": [
    "import pyspark.pandas as ps\n",
    "\n",
    "arq_leitura = \"/FileStore/tables/aula_2/exercicio/df_escolas.csv\"\n",
    "\n",
    "df = ps.read_csv(arq_leitura).drop([\"_c0\"], axis='columns')\n",
    "\n",
    "df.head(5)"
   ]
  },
  {
   "cell_type": "markdown",
   "metadata": {
    "application/vnd.databricks.v1+cell": {
     "cellMetadata": {
      "byteLimit": 2048000,
      "rowLimit": 10000
     },
     "inputWidgets": {},
     "nuid": "f6927b77-ebbd-4bc0-9af5-8c892b7a9997",
     "showTitle": false,
     "title": ""
    }
   },
   "source": [
    "> #### A API Nominatim permite consultar dados geográficos, como a latitude e a longitude, a partir de um endereço de forma gratuita:\n",
    "\n",
    "> https://nominatim.openstreetmap.org/ui/search.html\n",
    "\n",
    "> https://nominatim.org/release-docs/develop/api/Overview/"
   ]
  },
  {
   "cell_type": "code",
   "execution_count": 0,
   "metadata": {
    "application/vnd.databricks.v1+cell": {
     "cellMetadata": {
      "byteLimit": 2048000,
      "rowLimit": 10000
     },
     "inputWidgets": {},
     "nuid": "20877d47-d7c0-4e5b-b6f3-c82d2f5daa5d",
     "showTitle": false,
     "title": ""
    }
   },
   "outputs": [
    {
     "output_type": "stream",
     "name": "stdout",
     "output_type": "stream",
     "text": [
      "Out[22]: <Response [200]>"
     ]
    }
   ],
   "source": [
    "# biblioteca \"requests\" permite fazer requisições em API com o Python\n",
    "import requests\n",
    "\n",
    "# A URL base da API para fazer buscas em texto livre\n",
    "base_url = 'https://nominatim.openstreetmap.org/search?q='\n",
    "\n",
    "# O texto que será pesquisado\n",
    "busca = '%Edifício%Pedra%Grande%Brigadeiro%Faria%Lima%1306%'\n",
    "\n",
    "# Construir o URL a partir do URL base, o endereço e o formato para voltar em JSON\n",
    "url = base_url + busca + \"&format=json\"\n",
    "\n",
    "# Envia a requisição URL com o método GET\n",
    "response = requests.get(url)\n",
    "\n",
    "response"
   ]
  }
 ],
 "metadata": {
  "application/vnd.databricks.v1+notebook": {
   "dashboards": [],
   "language": "python",
   "notebookMetadata": {
    "mostRecentlyExecutedCommandWithImplicitDF": {
     "commandId": 368097242019978,
     "dataframes": [
      "_sqldf"
     ]
    },
    "pythonIndentUnit": 4
   },
   "notebookName": "Aula_2_Exercicio_1_Pipeline_com_API",
   "widgets": {}
  }
 },
 "nbformat": 4,
 "nbformat_minor": 0
}
