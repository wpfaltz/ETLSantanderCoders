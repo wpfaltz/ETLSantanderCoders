{
 "cells": [
  {
   "cell_type": "markdown",
   "metadata": {
    "application/vnd.databricks.v1+cell": {
     "cellMetadata": {},
     "inputWidgets": {},
     "nuid": "6318ce0c-8f13-470c-ac28-2d3b1468d19e",
     "showTitle": false,
     "title": ""
    }
   },
   "source": [
    "<div style=\"text-align: left;\">\n",
    "\n",
    "## Módulo: ED-NA-001 - Extração de Dados I\n",
    "<br>\n",
    "\n",
    "## Aula 8\n",
    "<br>"
   ]
  },
  {
   "cell_type": "markdown",
   "metadata": {
    "application/vnd.databricks.v1+cell": {
     "cellMetadata": {},
     "inputWidgets": {},
     "nuid": "dbf1c62e-a718-4b6e-837b-a2b1b6b147fa",
     "showTitle": false,
     "title": ""
    }
   },
   "source": [
    "### Programação da Aula 8:\n",
    "\n",
    "> #### 1. **Resolução do Exercício 5 sobre carga de dados sem duplicadas**;\n",
    "> #### 2. **Tempo para desenvolvimento do Projeto ou Exercícios e tirar dúvidas**;\n",
    "> #### 3. **Resolução do Exercício 6 sobre cargas em bando de dados**;\n",
    "> #### 4. **Comentar e discutir sobre Orquestradores de Fluxos**"
   ]
  },
  {
   "cell_type": "markdown",
   "metadata": {
    "application/vnd.databricks.v1+cell": {
     "cellMetadata": {},
     "inputWidgets": {},
     "nuid": "7ba1dc33-2aaf-4d77-8593-c9194b97d5dc",
     "showTitle": false,
     "title": ""
    }
   },
   "source": [
    "\n",
    "<br>\n",
    "\n",
    "<div style=\"text-align: center;\">\n",
    "\n",
    "\n",
    "<img src=\"https://drive.google.com/uc?export=view&id=10W0iYtD9k-xsMzMg2OuHW__fSa2nQJXa\"  width=\"70%\" height=\"40%\">\n",
    "<br>\n",
    "<br>\n",
    "\n",
    "<img src=\"https://drive.google.com/uc?export=view&id=10NEnW3gFih0gznrk2pfuUUQVmzeam0go\"  width=\"70%\" height=\"40%\">\n",
    "<br>\n",
    "<br>\n",
    "\n",
    "<img src=\"https://drive.google.com/uc?export=view&id=10KToH266CNYN8AdXnzT1m2aw-btzrSYX\"  width=\"70%\" height=\"40%\">\n",
    "<br>\n",
    "<br>\n",
    "\n",
    "<img src=\"https://drive.google.com/uc?export=view&id=10IeAMgdq8J0h7Q_AtxKqap2FjEA8bBcM\"  width=\"70%\" height=\"40%\">\n",
    "<br>\n",
    "<br>\n",
    "\n",
    "<img src=\"https://drive.google.com/uc?export=view&id=10DsI4jcfxjWw_CUEoHLK0YRdczyQvsCs\"  width=\"70%\" height=\"40%\">\n",
    "<br>\n",
    "<br>\n",
    "\n",
    "<img src=\"https://drive.google.com/uc?export=view&id=108Zyoc68sKsOz2mV5_MYA3EXv6Y5oVDX\"  width=\"70%\" height=\"40%\">\n",
    "<br>\n",
    "<br>\n",
    "\n",
    "<img src=\"https://drive.google.com/uc?export=view&id=1042eeAuSKWiNodINhEEsiEN4XeSEaA66\"  width=\"70%\" height=\"40%\">\n"
   ]
  }
 ],
 "metadata": {
  "application/vnd.databricks.v1+notebook": {
   "dashboards": [],
   "language": "python",
   "notebookMetadata": {
    "pythonIndentUnit": 4
   },
   "notebookName": "Aula_8_Exercicios_e_Orquestradores",
   "widgets": {}
  }
 },
 "nbformat": 4,
 "nbformat_minor": 0
}
